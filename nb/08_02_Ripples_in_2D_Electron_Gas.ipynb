{
 "cells": [
  {
   "cell_type": "markdown",
   "metadata": {},
   "source": [
    "# Frequency analysis with spatial data.\n",
    "\n",
    "### Goals:\n",
    "\n",
    "1. To move from frequency analysis on temporal data, (i.e., sounds), to frequency analysis in the spatial domain, (i.e., repeating structures, such as crystals or metal surfaces).\n",
    "2. To move from 1-dimensional frequency analysis to 2-dimensional frequency analysis, (i.e, when the stuctures exist on a 2D surface).\n",
    "\n",
    "### Timing\n",
    "\n",
    "1. Try to finish this notebook in 30-35 minutes.\n"
   ]
  },
  {
   "cell_type": "code",
   "execution_count": null,
   "metadata": {},
   "outputs": [],
   "source": [
    "%matplotlib inline\n",
    "import numpy as np\n",
    "import matplotlib.pyplot as plt\n",
    "from numpy.fft import fft2, fftshift # Python DFT in 2D\n",
    "\n",
    "plt.rcParams['font.size'] = 14"
   ]
  },
  {
   "cell_type": "markdown",
   "metadata": {},
   "source": [
    "# Outline for this Notebook\n",
    "\n",
    "This notebook will go through an application of the Fourier transform to decipher the electronic properties of a specially designed metallic surface. The experimental data will be various images of an atomically flat copper sample that are captured using a device known as a **Scanning Tunneling Microscope (STM)**. An STM is essentially just a metallic scanning probe or \"tip\" that is moved very precisely across the metal surface. As the tip moves closer to the surface, an electrical current begins to develop between the sample and the tip, and this current is directly proportional to the amount of electrons on that part of the surface. A two-dimensional \"image\" is then constructed by measuring the current while the tip moves along a region of the surface, where points with a large amount of electrons will appear bright and those with less electrons appear dark. An example of such a scan is shown below."
   ]
  },
  {
   "cell_type": "code",
   "execution_count": null,
   "metadata": {
    "scrolled": false
   },
   "outputs": [],
   "source": [
    "## Load some of the raw data\n",
    "messy_2DEG = np.loadtxt(\"../data/messy_topo.txt\", delimiter=',')\n",
    "\n",
    "## Plot the raw data\n",
    "fig, ax = plt.subplots(figsize=(6, 6))\n",
    "\n",
    "img = ax.imshow(messy_2DEG, origin='lower')\n",
    "fig.colorbar(img, ax=ax, location='right', shrink=0.7)\n",
    "\n",
    "ax.set_xlabel('$x$-position (Angstroms)')\n",
    "ax.set_ylabel('$y$-position (Angstroms)')\n",
    "\n",
    "fig.tight_layout()\n",
    "\n",
    "plt.show()"
   ]
  },
  {
   "cell_type": "markdown",
   "metadata": {},
   "source": [
    "This image is a **300 x 300 Angstrom** (1 Angstrom = $10^{-10}$ meters) scan of a Copper surface. \n",
    "- The **dark dots** are individual carbon monoxide (CO) molecules that can be applied to the surface at various concentrations. \n",
    "- The **electrons** fill in the space between these molecules; because electrons are roughly 1800 times smaller than protons or neutrons, we don't see individual electron particles but rather a **continuous density of electrons** across the sample surface (green). \n",
    "- It is this \"electron sea\" or 2D electron gas that we image using an STM, and in the same way that rocks create ripples in water, we will see that defects like these molecules create waves in the electronic density that contain fundamental information about the quantum-mechanical nature of the electronic system.\n",
    "\n",
    "The Fourier analysis methods from the previous notebook are well suited to studying wave-like structures in signals, and so all we have to do is take the methods we used previously for 1D waveforms and generalize them to 2D images like the one above. "
   ]
  },
  {
   "cell_type": "markdown",
   "metadata": {},
   "source": [
    "# Fourier Transform for 2D Images\n",
    "\n",
    "Before we get to the electrons, let's try to develop intuition for how the Fourier transform works in 2D. Let's start like we did before with a simple example. The equivalent of a single-frequency sine wave in 2D is a waveform that varies periodically on one axis and remains constant in another. This is called a **plane wave**, and we can decompose any image into its constituent plane waves with varying amplitude and frequency just as we did in the 1D case. What is new here is now these plane waves also differ in the direction that they are oriented. We show a few examples of different plane waves and their corresponding 2D Fourier transforms.\n",
    "\n",
    "### Horizontal plane wave"
   ]
  },
  {
   "cell_type": "code",
   "execution_count": null,
   "metadata": {},
   "outputs": [],
   "source": [
    "## Define some dimensions and spatial frequencies\n",
    "hW, hH = 200, 200\n",
    "hFreq = 10\n",
    "\n",
    "## Mesh on the square [0,1)x[0,1)\n",
    "x = np.linspace( 0, 2*hW/(2*hW +1), 2*hW+1)     # columns (Width)\n",
    "y = np.linspace( 0, 2*hH/(2*hH +1), 2*hH+1)     # rows (Height)\n",
    "[X, Y] = np.meshgrid(x,y)\n",
    "\n",
    "## Generate the plane wave along the x-axis\n",
    "A = np.sin(2*np.pi*hFreq*X)\n",
    "H, W = np.shape(A)\n",
    "\n",
    "## Plot a horizontal plane wave\n",
    "fig, ax = plt.subplots(figsize=(6, 6))\n",
    "img = ax.imshow(A, cmap = 'gray', origin='lower')\n",
    "fig.colorbar(img, ax=ax, location='right', shrink=0.7)\n",
    "\n",
    "ax.set_xlabel('x (m)')\n",
    "ax.set_ylabel('y (m)')\n",
    "\n",
    "ax.set_xticks(np.linspace( 0, 2*hW+1, 11), [str(round(float(label), 2)) for label in np.arange(0, 1.01, 0.1)])\n",
    "ax.set_yticks(np.linspace( 0, 2*hH+1, 11), [str(round(float(label), 2)) for label in np.arange(0, 1.01, 0.1)])\n",
    "\n",
    "fig.tight_layout()\n",
    "\n",
    "plt.show()"
   ]
  },
  {
   "cell_type": "markdown",
   "metadata": {},
   "source": [
    "And let's also plot the spatial Fourier transform of this signal. "
   ]
  },
  {
   "cell_type": "code",
   "execution_count": null,
   "metadata": {},
   "outputs": [],
   "source": [
    "## First compute the 2D Fourier transform with proper normalization\n",
    "F = fft2(A) / (W*H)                          \n",
    "F = fftshift(F)\n",
    "\n",
    "## Compute the amplitude of the Fourier transform so we can plot a\n",
    "## purely real quantity, since the transform can generally return a complex\n",
    "## number, which indicates the phase of the associated component\n",
    "P = np.abs(F)\n",
    "\n",
    "fig, ax = plt.subplots(figsize=(6, 6))\n",
    "\n",
    "img = ax.imshow(P[hH-25:hH+25,hW-25:hW+25], extent=[-25,25,-25,25], origin='lower')\n",
    "fig.colorbar(img, ax=ax, location='right', shrink=0.7)\n",
    "\n",
    "ax.set_xlabel('$k_x$ (m$^{-1}$)')\n",
    "ax.set_ylabel('$k_y$ (m$^{-1}$)')\n",
    "\n",
    "fig.tight_layout()\n",
    "\n",
    "plt.show()"
   ]
  },
  {
   "cell_type": "markdown",
   "metadata": {},
   "source": [
    "### Vertical plane wave"
   ]
  },
  {
   "cell_type": "code",
   "execution_count": null,
   "metadata": {
    "scrolled": false
   },
   "outputs": [],
   "source": [
    "## Define some dimensions and spatial frequencies\n",
    "vW, vH = 200, 200\n",
    "vFreq = 5\n",
    "\n",
    "## Mesh on the square [0,1)x[0,1)\n",
    "x = np.linspace( 0, 2*vW/(2*vW +1), 2*vW+1)     # columns (Width)\n",
    "y = np.linspace( 0, 2*vH/(2*vH +1), 2*vH+1)     # rows (Height)\n",
    "[X, Y] = np.meshgrid(x,y)\n",
    "\n",
    "## Generate the plane wave along the y-axis\n",
    "A = np.sin(2*np.pi*vFreq*Y)\n",
    "H, W = np.shape(A)\n",
    "\n",
    "## Plot a horizontal plane wave\n",
    "fig, ax = plt.subplots(figsize=(6, 6))\n",
    "img = ax.imshow(A, cmap = 'gray', origin='lower')\n",
    "fig.colorbar(img, ax=ax, location='right', shrink=0.7)\n",
    "\n",
    "ax.set_xlabel('x (m)')\n",
    "ax.set_ylabel('y (m)')\n",
    "\n",
    "ax.set_xticks(np.linspace( 0, 2*vW+1, 11), [str(round(float(label), 2)) for label in np.arange(0, 1.01, 0.1)])\n",
    "ax.set_yticks(np.linspace( 0, 2*vH+1, 11), [str(round(float(label), 2)) for label in np.arange(0, 1.01, 0.1)])\n",
    "\n",
    "fig.tight_layout()\n",
    "\n",
    "plt.show()"
   ]
  },
  {
   "cell_type": "code",
   "execution_count": null,
   "metadata": {},
   "outputs": [],
   "source": [
    "\n",
    "## First compute the 2D Fourier transform with proper normalization\n",
    "F = fft2(A) / (W*H)                          \n",
    "F = fftshift(F)\n",
    "\n",
    "## Compute the amplitude of the Fourier transform so we can plot a\n",
    "## purely real quantity, since the transform can generally return a complex\n",
    "## number, which indicates the phase of the associated component\n",
    "P = np.abs(F)\n",
    "\n",
    "fig, ax = plt.subplots(figsize=(6, 6))\n",
    "\n",
    "img = ax.imshow(P[vH-25:vH+25,vW-25:vW+25], extent=[-25,25,-25,25], origin='lower')\n",
    "fig.colorbar(img, ax=ax, location='right', shrink=0.7)\n",
    "\n",
    "ax.set_xlabel('$k_x$ (m$^{-1}$)')\n",
    "ax.set_ylabel('$k_y$ (m$^{-1}$)')\n",
    "\n",
    "fig.tight_layout()\n",
    "\n",
    "plt.show()"
   ]
  },
  {
   "cell_type": "markdown",
   "metadata": {},
   "source": [
    "### Sum of horizontal and vertical plane waves"
   ]
  },
  {
   "cell_type": "code",
   "execution_count": null,
   "metadata": {
    "scrolled": false
   },
   "outputs": [],
   "source": [
    "## Define some dimensions and spatial frequencies\n",
    "sW, sH = 200, 200\n",
    "hFreq = 10\n",
    "vFreq = 5\n",
    "\n",
    "## Mesh on the square [0,1)x[0,1)\n",
    "x = np.linspace( 0, 2*sW/(2*sW +1), 2*sW+1)     # columns (Width)\n",
    "y = np.linspace( 0, 2*sH/(2*sH +1), 2*sH+1)     # rows (Height)\n",
    "[X, Y] = np.meshgrid(x,y)\n",
    "\n",
    "## Generate the plane wave along the x-axis\n",
    "A1 = np.sin(2*np.pi*hFreq*X) + np.sin(2*np.pi*vFreq*Y)\n",
    "H,W = np.shape(A1)\n",
    "\n",
    "## Plot a horizontal plane wave\n",
    "fig, ax = plt.subplots(figsize=(6, 6))\n",
    "img = ax.imshow(A1, cmap = 'gray', origin='lower')\n",
    "fig.colorbar(img, ax=ax, location='right', shrink=0.7)\n",
    "\n",
    "ax.set_xlabel('x (m)')\n",
    "ax.set_ylabel('y (m)')\n",
    "\n",
    "ax.set_xticks(np.linspace( 0, 2*sW+1, 11), [str(round(float(label), 2)) for label in np.arange(0, 1.01, 0.1)])\n",
    "ax.set_yticks(np.linspace( 0, 2*sH+1, 11), [str(round(float(label), 2)) for label in np.arange(0, 1.01, 0.1)])\n",
    "\n",
    "fig.tight_layout()\n",
    "\n",
    "plt.show()\n"
   ]
  },
  {
   "cell_type": "code",
   "execution_count": null,
   "metadata": {},
   "outputs": [],
   "source": [
    "## First compute the 2D Fourier transform with proper normalization\n",
    "F1 = fft2(A1)/(W*H)                          \n",
    "F1 = fftshift(F1)\n",
    "\n",
    "## Compute the amplitude of the Fourier transform so we can plot a\n",
    "## purely real quantity, since the transform can generally return a complex\n",
    "## number, which indicates the phase of the associated component\n",
    "P1 = np.abs(F1)\n",
    "\n",
    "fig, ax = plt.subplots(figsize=(6, 6))\n",
    "\n",
    "img = ax.imshow(P1[sH-25:sH+25,sW-25:sW+25], extent=[-25,25,-25,25], origin='lower')\n",
    "fig.colorbar(img, ax=ax, location='right', shrink=0.7)\n",
    "\n",
    "ax.set_xlabel('$k_x$ (m$^{-1}$)')\n",
    "ax.set_ylabel('$k_y$ (m$^{-1}$)')\n",
    "\n",
    "fig.tight_layout()\n",
    "\n",
    "plt.show()"
   ]
  },
  {
   "cell_type": "markdown",
   "metadata": {},
   "source": [
    "### Diagonal plane wave"
   ]
  },
  {
   "cell_type": "code",
   "execution_count": null,
   "metadata": {
    "scrolled": false
   },
   "outputs": [],
   "source": [
    "## Define some dimensions and spatial frequencies\n",
    "dW, dH = 200, 200\n",
    "hFreq = 10\n",
    "vFreq = 5\n",
    "\n",
    "## Mesh on the square [0,1)x[0,1)\n",
    "x = np.linspace( 0, 2*dW/(2*dW +1), 2*dW+1)     # columns (Width)\n",
    "y = np.linspace( 0, 2*dH/(2*dH +1), 2*dH+1)     # rows (Height)\n",
    "[X, Y] = np.meshgrid(x,y)\n",
    "\n",
    "## Generate the plane wave along the x-axis\n",
    "A2 = np.sin(hFreq*2*np.pi*X + vFreq*2*np.pi*Y)\n",
    "H,W = np.shape(A2)\n",
    "\n",
    "## Plot a horizontal plane wave\n",
    "fig, ax = plt.subplots(figsize=(6, 6))\n",
    "img = ax.imshow(A2, cmap = 'gray', origin='lower')\n",
    "fig.colorbar(img, ax=ax, location='right', shrink=0.7)\n",
    "\n",
    "ax.set_xlabel('x (m)')\n",
    "ax.set_ylabel('y (m)')\n",
    "\n",
    "ax.set_xticks(np.linspace( 0, 2*dW+1, 11), [str(round(float(label), 2)) for label in np.arange(0, 1.01, 0.1)])\n",
    "ax.set_yticks(np.linspace( 0, 2*dH+1, 11), [str(round(float(label), 2)) for label in np.arange(0, 1.01, 0.1)])\n",
    "\n",
    "fig.tight_layout()\n",
    "\n",
    "plt.show()"
   ]
  },
  {
   "cell_type": "code",
   "execution_count": null,
   "metadata": {},
   "outputs": [],
   "source": [
    "## First compute the 2D Fourier transform with proper normalization\n",
    "F2 = fft2(A2)/(W*H)                          \n",
    "F2 = fftshift(F2)\n",
    "\n",
    "## Compute the amplitude of the Fourier transform so we can plot a\n",
    "## purely real quantity, since the transform can generally return a complex\n",
    "## number, which indicates the phase of the associated component\n",
    "P2 = np.abs(F2)\n",
    "\n",
    "fig, ax = plt.subplots(figsize=(6, 6))\n",
    "\n",
    "img = ax.imshow(P2[dH-25:dH+25,dW-25:dW+25], extent=[-25,25,-25,25], origin='lower')\n",
    "fig.colorbar(img, ax=ax, location='right', shrink=0.7)\n",
    "\n",
    "ax.set_xlabel('$k_x$ (m$^{-1}$)')\n",
    "ax.set_ylabel('$k_y$ (m$^{-1}$)')\n",
    "\n",
    "fig.tight_layout()\n",
    "\n",
    "plt.show()"
   ]
  },
  {
   "cell_type": "markdown",
   "metadata": {},
   "source": [
    "### Questions for Discussion\n",
    "\n",
    "#### 5.1 One key difference between the Fourier transform of time-based signals and 2D images is that the data in each case is a function of different dimensions: time and space, respectively. What units are used for the corresponding \"spatial frequency\" in each direction (x and y) in the examples above? Does this make sense in the context of the previous notebook with our time-based signals and Fourier-transformed frequency space plots?  \n",
    "\n",
    "#### 5.2 We also have to consider the direction of the plane waves, so now we describe each possible wave not as a single frequency but as a vector with two values corresponding to each axis of the transformed image (written as $k_x$ and $k_y$ above). We call this quantity the \"wavevector,\" and in each example above the wavevector points from the origin to the points with non-zero amplitude (the yellow dots). Why are there two wavevectors for a single plane wave? Hint: consider the symmetry of the plane wave in the original image."
   ]
  },
  {
   "cell_type": "markdown",
   "metadata": {},
   "source": [
    "# Plane Waves in Electronic Materials\n",
    "\n",
    "**Disclaimer**: A lot of the theoretical background below is advanced for this class, and the lab will try to simply explain difficult concepts to the level that you can proceed with the analysis. \n",
    "\n",
    "If anything is confusing to you feel free to ask, but also feel free to skip this part and read the **simple summary** below, especially if you are short on time. Those who are interested should definitely take a solid state physics course in the future!\n",
    "\n",
    "It turns out that there is a fundamental connection between plane waves and the electrons on a metallic surface. Electrons in a metal have the unique property that they are not confined to the nuclei of the atoms in the solid but can travel freely through the material. These \"free\" electrons also exist on the surface of the metal, and the best description of these particles is not as point objects but rather as a collection of plane waves that make up the electron sea. This is a direct example of the \"wave-particle duality\" you may have heard of in Quantum Mechanics. We can then relate the wavevector $\\vec{k} = (k_x, k_y)$ of the electronic states to the electron momentum using the reduced Planck constant, $\\vec{p} = \\hbar \\vec{k}$. This is the same way that momentum can be defined for photons even though they are massless.\n",
    "\n",
    "Now, one fundamental property of electrons that we must consider is that no more than two electrons can occupy the same quantum state, a statement known as the Pauli Exclusion Principle (you may have experience with this rule drawing electrons into atomic orbitals in chemistry class). This means that the electrons on the surface can't all have the same wavevector or energy, and instead we find that they form a continuous band of plane waves with increasing momentum (and thus increasing energy) as the number of electrons increases. Because the total number of electrons is always finite, we must have a largest energy state corresponding to those electrons at the top of the band of states. This energy is known as the Fermi energy, and this value plays a critical role in understanding the electronic nature of the bulk material we are studying (for example, determining if the material is a conductor or an insulator). \n",
    "\n",
    "Lucky for us, the Fermi energy can be determined by studying the waveforms produced by defects inside the 2D electron sea. It can be shown that the electrons that most strongly scatter off of defects on the surface are those with a wavevector very close to the Fermi wavevector, and so we can measure this value by finding the spatial frequency of the ripples in the STM images. This is where the 2D Fourier transform will be useful, because it makes the periodic features of the image easily understood.\n"
   ]
  },
  {
   "cell_type": "markdown",
   "metadata": {},
   "source": [
    "**SIMPLE SUMMARY**: We don't have to understand all of the details above to figure out the procedure we are going to employ. Basically, we see oscillations in the electron sea that are due to scattering of electrons off of defects on the surface. These oscillations provide us with fundamental information about the material's electronic properties in the same way that ripples in a liquid formed by throwing a rock in it can teach us about the liquid's properties (the surface tension, for example). It turns out that the wavevector describing the electronic ripples can be related to a fundamental energy parameter of the material that determines the bulk electronic behavior and is critical for electronic devices and more advanced quantum-mechanical applications. This is known as the Fermi energy, and we will use 2D Fourier techniques to measure this value for a Copper surface.\n",
    "\n",
    "\n",
    "Let's begin by visualizing a cleaner region of the Copper surface."
   ]
  },
  {
   "cell_type": "code",
   "execution_count": null,
   "metadata": {
    "scrolled": true
   },
   "outputs": [],
   "source": [
    "## Load some of the raw data, now zoomed in on a particular topological\n",
    "## defect on the surface (one of the dots from the very first image)\n",
    "empty_2DEG = np.loadtxt(\"../data/empty_topo.txt\", delimiter=',')\n",
    "defect_2DEG = np.loadtxt(\"../data/defect_topo.txt\", delimiter=',')\n",
    "\n",
    "## Plot the zoomed-in data centered on a single isolated defect\n",
    "fig, ax = plt.subplots(figsize=(6, 6))\n",
    "\n",
    "ax.imshow(defect_2DEG, origin='lower')\n",
    "\n",
    "ax.set_xlabel('x (Angstroms)')\n",
    "ax.set_ylabel('y (Angstroms)')\n",
    "\n",
    "fig.tight_layout()\n",
    "\n",
    "plt.show()"
   ]
  },
  {
   "cell_type": "markdown",
   "metadata": {},
   "source": [
    "In this image it is much easier to see oscillations due to individual defects. We can now take the Fourier Transform of this image to try to uncover the periodicity of the ripples we see."
   ]
  },
  {
   "cell_type": "code",
   "execution_count": null,
   "metadata": {
    "scrolled": false
   },
   "outputs": [],
   "source": [
    "## Compute the 2D Fourier transform\n",
    "F_defect = fft2(defect_2DEG)                   \n",
    "F_defect = fftshift(F_defect)\n",
    "P2 = np.abs(F_defect)\n",
    "\n",
    "## Compute the log of the power spectrum so we can see a bit more using a \n",
    "## linear colormap, with \"zero-padding\" to prevent log(0) errors.\n",
    "P2 = np.log(P2+1)\n",
    "\n",
    "fig, ax = plt.subplots(figsize=(6, 6))\n",
    "\n",
    "ax.imshow(P2, extent=[-16, 16, -16, 16], origin='lower')\n",
    "\n",
    "ax.set_xlabel('$k_x$ (Angstroms$^{-1}$)')\n",
    "ax.set_ylabel('$k_y$ (Angstroms$^{-1}$)')\n",
    "\n",
    "fig.tight_layout()\n",
    "\n",
    "plt.show()"
   ]
  },
  {
   "cell_type": "markdown",
   "metadata": {},
   "source": [
    "### Question for discussion\n",
    "\n",
    "#### 6.1 Can you explain how the ripples in the original image transform into the circular features in the Fourier transform? You can ignore the vertical and horizontal lines running through the center; these are due to the finite size of the image and the lack of truly periodic boundary conditions. Hint: again, think of the symmetries involved and the plane wave examples above.\n"
   ]
  },
  {
   "cell_type": "markdown",
   "metadata": {},
   "source": [
    "The original image unfortunately suffers from too much noise to adequately study the ripples in isolation. \n",
    "\n",
    "One way to circumvent the noise is to subtract the effect of the background before taking the Fourier transform and only retain the effect of the central defect. This can be accomplished by a more advanced STM technique whereby the scanning tip not only images the surface but can also manipulate individual particles and move them in two dimensions. \n",
    "\n",
    "We can thus move the central defect and scan the area again so that we have just the effect on the electron sea due to all of the surrounding defects."
   ]
  },
  {
   "cell_type": "code",
   "execution_count": null,
   "metadata": {
    "scrolled": false
   },
   "outputs": [],
   "source": [
    "fig, ax = plt.subplots(figsize=(6, 6))\n",
    "\n",
    "ax.imshow(empty_2DEG, origin='lower')\n",
    "\n",
    "ax.set_xlabel('x (Angstroms)')\n",
    "ax.set_ylabel('y (Angstroms)')\n",
    "\n",
    "fig.tight_layout()\n",
    "\n",
    "plt.show()"
   ]
  },
  {
   "cell_type": "markdown",
   "metadata": {},
   "source": [
    "Now that we have the original map with and without the central defect, we can normalize both maps and take the difference to acquire just the effect of the central defect on the electronic density.\n",
    "\n",
    "We've done this for you and provided a \"diff_map\" dataset, as there are some subtleties in image alignment that make this a somewhat nontrivial task, and one that can't really be done \"perfectly\" anyway, as you'll see from some of the lingering artifacts in the image."
   ]
  },
  {
   "cell_type": "code",
   "execution_count": null,
   "metadata": {
    "scrolled": false
   },
   "outputs": [],
   "source": [
    "## Load the \"nice\" data\n",
    "diff_map = np.loadtxt(\"../data/diff_map.txt\", delimiter=',')\n",
    "\n",
    "fig, ax = plt.subplots(figsize=(6, 6))\n",
    "\n",
    "ax.imshow(diff_map, origin='lower')\n",
    "\n",
    "ax.set_xlabel('x (Angstroms)')\n",
    "ax.set_ylabel('y (Angstroms)')\n",
    "\n",
    "fig.tight_layout()\n",
    "\n",
    "plt.show()"
   ]
  },
  {
   "cell_type": "markdown",
   "metadata": {},
   "source": [
    "Although weaker in amplitude, the waveform created by the central defect is much more visible (i.e. higher signal contrast relative to background), and will lead to a more accurate Fourier transform, which we can see below."
   ]
  },
  {
   "cell_type": "code",
   "execution_count": null,
   "metadata": {
    "scrolled": false
   },
   "outputs": [],
   "source": [
    "## Compute the 2D Fourier transfrom of the difference map\n",
    "F_diff = fft2(diff_map)                    \n",
    "F_diff = fftshift(F_diff)\n",
    "P2 = np.abs(F_diff)\n",
    "\n",
    "## Compute the log of the power spectrum so we can see a bit more with a \n",
    "## linear colormap, with \"zero-padding\" to prevent log(0) errors.\n",
    "P2 = np.log(P2+1)\n",
    "\n",
    "fig, ax = plt.subplots(figsize=(6, 6))\n",
    "\n",
    "ax.imshow(P2, extent=[-16, 16, -16, 16], origin='lower')\n",
    "\n",
    "ax.set_xlabel('$k_x$ (Angstroms$^{-1}$)')\n",
    "ax.set_ylabel('$k_y$ (Angstroms$^{-1}$)')\n",
    "\n",
    "plt.tight_layout()\n",
    "\n",
    "plt.show()"
   ]
  },
  {
   "cell_type": "markdown",
   "metadata": {},
   "source": [
    "This circular Fourier-transformed image is a direct visualization of the electronic plane waves with their energy level at the Fermi energy. The radius of this circle corresponds to **twice** the Fermi wavevector, and from this value we can estimate the Fermi Energy.\n",
    "\n",
    "You could try finding the radius by plotting a circle on top of the image, and changing its radius until you find a good overlap/fit. You'll need to use the `plt.Circle()` function to generate a circle object, and then add that object to your figure before running the `plt.show()` command to make the plot. This StackOverflow answer may be relevant: [Plotting a Circle](https://stackoverflow.com/a/9216646/12441391)\n",
    "\n",
    "A more rigorous treatment could take many forms (and could make for an intersesting final project to compare a few methods). One could imagine doing some binary thresholding to separate the \"bright\" and \"dark\" portions of the image, with subsequent contour identification of the bright features. One could also imagine mapping the $xy$ coordinate system to a polar coordinate system and then averaging/summing over all the values of $\\phi$ to extract only the radial dependence, with subsequent peak identification and/or fitting. As a final proposal, one could also try defining an explicit 2D function that is uniform in $\\phi$ but has a Guassian-like radial dependence, and then regressing this model against the 2D data with a least-squared regression like we did a few labs ago.\n",
    "\n",
    "### Question For Discussion\n",
    "\n",
    "#### 7.1 We mentioned above that the wavevectors describing the electronic plane wave states have an associated momentum defined by $\\vec{p} = \\hbar \\vec{k}$, where $\\hbar$ is the reduced Planck constant.  Using this relationship and the plot above, estimate the Fermi energy of Copper. Remember how momentum is related to kinetic energy in order to get the right formula, and also use the fact that the electrons in Copper have an effective mass $m_e = 1.01*m_0$, where $m_0$ is the rest mass of an electron (you can look up this value online). Ask the instructor/TA for the actual value measured, and if you do this right you will have measured the Fermi energy to about 10 percent with very simple data processing."
   ]
  }
 ],
 "metadata": {
  "kernelspec": {
   "display_name": "kipac_physics89L",
   "language": "python",
   "name": "python3"
  },
  "language_info": {
   "codemirror_mode": {
    "name": "ipython",
    "version": 3
   },
   "file_extension": ".py",
   "mimetype": "text/x-python",
   "name": "python",
   "nbconvert_exporter": "python",
   "pygments_lexer": "ipython3",
   "version": "3.11.8"
  }
 },
 "nbformat": 4,
 "nbformat_minor": 4
}

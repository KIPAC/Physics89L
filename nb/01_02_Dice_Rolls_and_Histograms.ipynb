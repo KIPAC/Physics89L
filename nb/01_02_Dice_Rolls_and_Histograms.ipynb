{
 "cells": [
  {
   "attachments": {},
   "cell_type": "markdown",
   "id": "af5c1ecd",
   "metadata": {},
   "source": [
    "# Data Presentation, making histograms of dice rolls\n",
    "\n",
    "### Goals:\n",
    "\n",
    "1. We are still just getting started. The main idea here is to make sure that you are comfortable with using notebooks that run simple python code, and that you can get a sense of what the code is doing (no need to worry about the details).  \n",
    "2. Also, we want to start talking about data presentation by making few very simple graphs. Almost all of these graphs will be \"histograms\", which chart the number of times that we see different results in our data.\n",
    "3. Finally, we are going to explore some very common mistakes that people make when making histograms.\n",
    "\n",
    "\n",
    "### Timing\n",
    "\n",
    "Try to finish this notebook in 15-20 minutes\n"
   ]
  },
  {
   "cell_type": "code",
   "execution_count": null,
   "id": "643bf531",
   "metadata": {},
   "outputs": [],
   "source": [
    "# Standard setup\n",
    "\n",
    "## enables display of plots within the notebook\n",
    "%matplotlib inline\n",
    "\n",
    "## import pyplot module with alias `plt`\n",
    "import matplotlib.pyplot as plt\n",
    "\n",
    "## import numpy module with alias `np`\n",
    "import numpy as np"
   ]
  },
  {
   "attachments": {},
   "cell_type": "markdown",
   "id": "c1f6589e",
   "metadata": {},
   "source": [
    "### New functions we will use in this module\n",
    "\n",
    "Since there are people with different levels of programming expertise in the course, we will try and provide a reference for the software functions that we use.  \n",
    "\n",
    "If you want more detail on what the built-in software functions do, you can google the function and get a reference page. For example, here is the [reference](https://numpy.org/doc/stable/reference/random/generated/numpy.random.Generator.integers.html) for rng.integers.\n",
    "\n",
    "| Function Name            | What it does |\n",
    "| - | - |\n",
    "|    numpy.random.default_rng  | creates a random number generator (rng) |\n",
    "|    rng.integers          | generates a random integer between a low and a high value |\n",
    "|    rng.uniform           | generates a random real number from a flat or 'uniform' distribution |\n",
    "|    numpy.zeros           | makes an array and fills it with zeros |\n",
    "|    numpy.arange          | makes an array and fills it with sequential integers e.g., [0, 1, 2, 3, ...] |\n",
    "|    numpy.searchsorted    | find the index corresponding to the last entry in a sorted list that is less than particular value.  This can be used to find which \"bin\" a particular value belongs in. |\n",
    "|    numpy.linspace        | return evenly spaced values |\n",
    "|    numpy.bincount        | count the number of values that fall in a set of bins |\n",
    "|    numpy.histogram       | makes a \"histogam\" from a set of values, counting how many values fall into each of a set of bins. |\n",
    "|    plt.plot              | Plots a series of values |  \n",
    "|    plt.scatter           | Makes a \"scatter\" plot, plotting x and y values against each other |\n",
    "|    plt.hist              | Makes a \"histogram\" plotting the number of values that fall into a set of bins |\n",
    "|    plt.xlim              | Set the x-axis limits of a figure (also plt.ylim) |\n",
    "|    plt.xlabel            | Set the x-axis label of a figure (also plt.ylabel) |  \n",
    "|    array[i]              | Returns the i'th value in an array |  \n",
    "|   value += increment     | Adds increment to a variable.  |"
   ]
  },
  {
   "cell_type": "markdown",
   "id": "d65907b0",
   "metadata": {},
   "source": [
    "### Simulating a dice roll"
   ]
  },
  {
   "attachments": {},
   "cell_type": "markdown",
   "id": "5a53ea6e",
   "metadata": {},
   "source": [
    "This is a simple function to simulate rolling a normal, six-sided die.\n",
    "\n",
    "Providing the size=nTimes argument simulates nTimes separate rolls and puts them all in a data array."
   ]
  },
  {
   "cell_type": "code",
   "execution_count": null,
   "id": "edebecb0",
   "metadata": {},
   "outputs": [],
   "source": [
    "# First, we need to create our random number generator\n",
    "# The number we optionally call it with is called a \"seed\"\n",
    "# By specifying this number, we should get the same output whenever we use this random number generator\n",
    "rng = np.random.default_rng(42)"
   ]
  },
  {
   "cell_type": "code",
   "execution_count": null,
   "id": "0c9c0b04",
   "metadata": {},
   "outputs": [],
   "source": [
    "# Here we define a function which takes two arguments:\n",
    "# random number generator (rng) and the number of times you want to roll the dice (nTimes)\n",
    "def rollD6(rng, nTimes):\n",
    "    return rng.integers(low=1, high=6, endpoint=True, size=nTimes)"
   ]
  },
  {
   "cell_type": "code",
   "execution_count": null,
   "id": "240f1faa",
   "metadata": {},
   "outputs": [],
   "source": [
    "tenRolls = rollD6(rng=rng, nTimes=10)\n",
    "print(tenRolls)"
   ]
  },
  {
   "cell_type": "markdown",
   "id": "5c5eceea",
   "metadata": {},
   "source": [
    "If you aren't familiar with jupyter notebooks or python, make sure that you understand what happened in the two cells above, and how the output was displayed on the screen."
   ]
  },
  {
   "cell_type": "markdown",
   "id": "5e3034e8",
   "metadata": {},
   "source": [
    "## Counting Occurences "
   ]
  },
  {
   "cell_type": "markdown",
   "id": "f29241a3",
   "metadata": {},
   "source": [
    "One of the most common things to do with data is to count how many times something happened."
   ]
  },
  {
   "cell_type": "markdown",
   "id": "426f5bd8",
   "metadata": {},
   "source": [
    "First, let's simulate rolling a dice 600 times."
   ]
  },
  {
   "cell_type": "code",
   "execution_count": null,
   "id": "295baee2",
   "metadata": {},
   "outputs": [],
   "source": [
    "dataSampleD6 = rollD6(rng, nTimes=600)"
   ]
  },
  {
   "cell_type": "markdown",
   "id": "a35c8f7c",
   "metadata": {},
   "source": [
    "Let's inspect the first 10 data points"
   ]
  },
  {
   "cell_type": "code",
   "execution_count": null,
   "id": "ef9a947e",
   "metadata": {},
   "outputs": [],
   "source": [
    "dataSampleD6[0:10]"
   ]
  },
  {
   "cell_type": "markdown",
   "id": "1961103c",
   "metadata": {},
   "source": [
    "Now, let's count the number of times we got each value.   Let's write a simple function to do this"
   ]
  },
  {
   "cell_type": "code",
   "execution_count": null,
   "id": "16d45fe7",
   "metadata": {},
   "outputs": [],
   "source": [
    "def countDiceResults(data):\n",
    "    counters = np.zeros((6), int)\n",
    "    for value in data:\n",
    "        counters[value-1] += 1 # we use value-1 here because python array indices start at 0\n",
    "    return counters"
   ]
  },
  {
   "cell_type": "code",
   "execution_count": null,
   "id": "3c1273e6",
   "metadata": {},
   "outputs": [],
   "source": [
    "countDiceResults(dataSampleD6)"
   ]
  },
  {
   "attachments": {},
   "cell_type": "markdown",
   "id": "1f939bf1",
   "metadata": {},
   "source": [
    "#### pro-tip: numpy.bincount( )\n",
    "\n",
    "The numpy.bincount function works similarly to the function we wrote above, and it is smart enough to figure out how many counters to use. In this case the first bin is for the value 0 (and is therefore empty)."
   ]
  },
  {
   "cell_type": "code",
   "execution_count": null,
   "id": "3819c9c9",
   "metadata": {},
   "outputs": [],
   "source": [
    "np.bincount(dataSampleD6)"
   ]
  },
  {
   "cell_type": "markdown",
   "id": "36f0272e",
   "metadata": {},
   "source": [
    "### Representing the output\n",
    "\n",
    "We are going to make a few plots to represent the results of our dice rolls.\n",
    "\n",
    "First, let's make a simple plot where we plot the value each roll of the dice."
   ]
  },
  {
   "cell_type": "code",
   "execution_count": null,
   "id": "0b917202",
   "metadata": {},
   "outputs": [],
   "source": [
    "plt.plot(dataSampleD6,'o') #The 'o' option specifies that each data point should be a circle. Try removing it!\n",
    "plt.ylabel(\"Value\")\n",
    "plt.xlabel(\"Trial Number\")\n",
    "plt.show()"
   ]
  },
  {
   "cell_type": "markdown",
   "id": "b147efc0",
   "metadata": {},
   "source": [
    "## Questions for discussion:\n",
    "\n",
    "#### 2.1 Is this what you were expecting?\n",
    "\n",
    "#### 2.2 Can you think of a better way to represent the results?"
   ]
  },
  {
   "cell_type": "markdown",
   "id": "bdb87a81",
   "metadata": {},
   "source": [
    "### Next exercise, make a plot of the number of occurences of each value"
   ]
  },
  {
   "cell_type": "code",
   "execution_count": null,
   "id": "bf7ecc29",
   "metadata": {},
   "outputs": [],
   "source": [
    "plt.plot(np.linspace(1,6,6), countDiceResults(dataSampleD6))\n",
    "plt.ylabel(\"Number of occurences\")\n",
    "plt.xlabel(\"Value\")\n",
    "plt.show()"
   ]
  },
  {
   "cell_type": "code",
   "execution_count": null,
   "id": "5823dd2d",
   "metadata": {},
   "outputs": [],
   "source": [
    "plt.scatter(np.linspace(1,6,6), countDiceResults(dataSampleD6))\n",
    "plt.ylabel(\"Number of occurences\")\n",
    "plt.xlabel(\"Value\")\n",
    "plt.show()"
   ]
  },
  {
   "cell_type": "markdown",
   "id": "cc3e9491",
   "metadata": {},
   "source": [
    "### Questions for discussion: \n",
    "\n",
    "#### 3.1 What do you think about how the data are presented in the previous two plots?\n",
    "\n",
    "#### 3.2 How might they be presented more clearly?"
   ]
  },
  {
   "cell_type": "markdown",
   "id": "c6e1097e",
   "metadata": {},
   "source": [
    "# Histograms, bins, continuous data"
   ]
  },
  {
   "attachments": {},
   "cell_type": "markdown",
   "id": "f835441e",
   "metadata": {},
   "source": [
    "In the example above we were counting discrete outcomes, (i.e., any one of the 6 possible outcomes of the dice roll). But a lot of times when we measure something, the outcomes are not discrete, but rather continous (e.g., your measurement can result in non-integer values)."
   ]
  },
  {
   "cell_type": "code",
   "execution_count": null,
   "id": "f8dcc27b",
   "metadata": {},
   "outputs": [],
   "source": [
    "# This samples randomly from a uniform distribution between 0 and 6\n",
    "dataSampleContinuous = rng.uniform(low=0., high=6., size=600)"
   ]
  },
  {
   "cell_type": "code",
   "execution_count": null,
   "id": "88ff8e84",
   "metadata": {},
   "outputs": [],
   "source": [
    "plt.plot(dataSampleContinuous,'o')\n",
    "plt.ylabel(\"Value\")\n",
    "plt.xlabel(\"Trial Number\")\n",
    "plt.show()"
   ]
  },
  {
   "attachments": {},
   "cell_type": "markdown",
   "id": "6ec13948",
   "metadata": {},
   "source": [
    "#### Histogram\n",
    "\n",
    "A histogram is essentially a plot that counts a number of occurences. For discrete data, like a dice roll, it counts the number of times each discrete outcome occurs. For continous data, it counts the number of times the outcome was in a set of ranges. We refer to those ranges as the histogram 'bins.'"
   ]
  },
  {
   "cell_type": "code",
   "execution_count": null,
   "id": "a3dfa2b3",
   "metadata": {},
   "outputs": [],
   "source": [
    "def countContinousResults(data, bins):\n",
    "    indices = np.searchsorted(bins, data) - 1\n",
    "    counters = np.zeros(len(bins)-1, int)\n",
    "    for value in indices:\n",
    "        counters[value] += 1\n",
    "    return counters"
   ]
  },
  {
   "cell_type": "markdown",
   "id": "5336ee37",
   "metadata": {},
   "source": [
    "#### Setting binning\n",
    "\n",
    "We are going to use the numpy.linspace() function to define the bin edges.  \n",
    "numpy.linspace(start, stop, num) returns `num` evenly spaced numbers between `start` and `stop`."
   ]
  },
  {
   "cell_type": "code",
   "execution_count": null,
   "id": "226c82ca",
   "metadata": {},
   "outputs": [],
   "source": [
    "bins = np.linspace(0, 6, 7)\n",
    "print(bins)"
   ]
  },
  {
   "attachments": {},
   "cell_type": "markdown",
   "id": "51bcfcc9",
   "metadata": {},
   "source": [
    "Now, let's count the number of items in each bin"
   ]
  },
  {
   "cell_type": "code",
   "execution_count": null,
   "id": "8f7200df",
   "metadata": {},
   "outputs": [],
   "source": [
    "countContinousResults(dataSampleContinuous, bins)"
   ]
  },
  {
   "cell_type": "markdown",
   "id": "cca6a183",
   "metadata": {},
   "source": [
    "#### numpy.histogram\n",
    "\n",
    "Instead of writing a custom function, the function `numpy.histogram` constructions a histogram of some data. \n",
    "Note: It also returns the bins edges as well as the bin contents.\n",
    "\n",
    "Note that `np` is an abbreviation of sorts for `numpy`, which is specified at the top of this notebook. "
   ]
  },
  {
   "cell_type": "code",
   "execution_count": null,
   "id": "4a9d353b",
   "metadata": {},
   "outputs": [],
   "source": [
    "np.histogram(dataSampleContinuous, bins=bins)"
   ]
  },
  {
   "attachments": {},
   "cell_type": "markdown",
   "id": "f201dbd6",
   "metadata": {},
   "source": [
    "### Question for discussion: \n",
    "\n",
    "#### 4.1 There are 6 items in the output of `countContinuousResults`, but 7 items in `bins`.  Why?"
   ]
  },
  {
   "cell_type": "markdown",
   "id": "8a34e8a6",
   "metadata": {},
   "source": [
    "#### matplotlib.hist\n",
    "\n",
    "The matplotlib function `hist` will create and plot a histogram.\n",
    "\n",
    "Note that it returns the bin content, bin edges, and some matplotlib\n",
    "objects used to draw the figure. "
   ]
  },
  {
   "cell_type": "code",
   "execution_count": null,
   "id": "6749ef5d",
   "metadata": {},
   "outputs": [],
   "source": [
    "plt.xlabel(\"Value\")\n",
    "plt.ylabel(\"Entries [per 1.0 units]\")\n",
    "plt.hist(dataSampleContinuous, bins=bins, color='m')\n",
    "plt.show()"
   ]
  },
  {
   "cell_type": "code",
   "execution_count": null,
   "id": "4aed93ad",
   "metadata": {},
   "outputs": [],
   "source": [
    "plt.xlabel(\"Value\")\n",
    "plt.ylabel(\"Entries [per 0.5 units]\")\n",
    "plt.hist(dataSampleContinuous, bins=np.linspace(0, 6, 13), color='m')\n",
    "plt.show()"
   ]
  },
  {
   "attachments": {},
   "cell_type": "markdown",
   "id": "1e98a121",
   "metadata": {},
   "source": [
    "Some things to note about histograms:\n",
    "\n",
    "  1. The y-axis values depend on the bin widths.  Making the bins narrower will decrease the number of entries in each bin\n",
    "  2. Because of this, it is good practice to include the bin width on the y-axis label\n",
    "  3. Particularly when making a histogram of integer quantities you should be careful to select the binning to avoid creating visual artifacts.  See the next few cells for examples"
   ]
  },
  {
   "cell_type": "markdown",
   "id": "d4d8d512",
   "metadata": {},
   "source": [
    "### Questions for discussion:\n",
    "\n",
    "#### 5.1 What is wrong with the next two histograms? "
   ]
  },
  {
   "cell_type": "code",
   "execution_count": null,
   "id": "ca807b26",
   "metadata": {},
   "outputs": [],
   "source": [
    "plt.xlabel(\"Value\")\n",
    "plt.ylabel(\"Entries [per 1.0 units]\")\n",
    "plt.hist(dataSampleD6, bins=bins)\n",
    "plt.show()"
   ]
  },
  {
   "cell_type": "code",
   "execution_count": null,
   "id": "3b8a4f3c",
   "metadata": {},
   "outputs": [],
   "source": [
    "plt.xlabel(\"Value\")\n",
    "plt.ylabel(\"Entries [per 1.0 units]\")\n",
    "plt.hist(dataSampleD6, bins=np.linspace(0.5, 6.5, 6))\n",
    "plt.show()"
   ]
  },
  {
   "attachments": {},
   "cell_type": "markdown",
   "id": "f18df33a",
   "metadata": {},
   "source": [
    "### Exercise:\n",
    "\n",
    "#### E.1 Make a better histogram for dataSampleD6, and write a few sentences in your report explaining what you did and why.\n"
   ]
  }
 ],
 "metadata": {
  "kernelspec": {
   "display_name": "Python 3",
   "language": "python",
   "name": "python3"
  },
  "language_info": {
   "codemirror_mode": {
    "name": "ipython",
    "version": 3
   },
   "file_extension": ".py",
   "mimetype": "text/x-python",
   "name": "python",
   "nbconvert_exporter": "python",
   "pygments_lexer": "ipython3",
   "version": "3.11.8"
  },
  "vscode": {
   "interpreter": {
    "hash": "e7370f93d1d0cde622a1f8e1c04877d8463912d04d973331ad4851f04de6915a"
   }
  }
 },
 "nbformat": 4,
 "nbformat_minor": 5
}

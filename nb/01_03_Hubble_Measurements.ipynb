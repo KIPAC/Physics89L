{
 "cells": [
  {
   "attachments": {},
   "cell_type": "markdown",
   "metadata": {},
   "source": [
    "# Measurements: a common sense view\n",
    "\n",
    "### Goals:\n",
    "\n",
    "1. Establish a common-sense understanding about how to interpret a set of measurements using a histogram.\n",
    "2. Gain practical knowledge of simple statistics, such as mean, median and standard deviation, by comparing them to our common-sense understanding.\n",
    "3. Contemplate the grandeur of the universe and the mind-blowing fact that it is expanding.\n",
    "\n",
    "### Timing\n",
    "\n",
    "Try to finish this notebook in 20-25 minutes\n",
    "\n"
   ]
  },
  {
   "cell_type": "code",
   "execution_count": null,
   "metadata": {},
   "outputs": [],
   "source": [
    "%matplotlib inline\n",
    "import matplotlib.pyplot as plt\n",
    "import numpy as np"
   ]
  },
  {
   "attachments": {},
   "cell_type": "markdown",
   "metadata": {},
   "source": [
    "### New functions we will use is this module:\n",
    "\n",
    "| Function Name  | What it does |\n",
    "| - | - |\n",
    "| numpy.loadtxt  | reads values from a text file |\n",
    "| numpy.mean     | returns the mean of a set of values |\n",
    "| numpy.median   | returns the median of a set of values |\n",
    "| numpy.min      | returns the mininum of a set of values |\n",
    "| numpy.max      | returns the maximum of a set of values |\n",
    "| numpy.abs      | returns the absolute value of each of a set of values |\n",
    "| numpy.std      | returns the standard deviation of a set of values |\n",
    "| numpy.sqrt     | returns the square root of each of a set of values |\n",
    "| numpy.hstack   | \"Stacks\" arrays, can be used to append values to an array |\n",
    "| array[:,i]     | returns the ith column from a 2-dimensional array |"
   ]
  },
  {
   "attachments": {},
   "cell_type": "markdown",
   "metadata": {},
   "source": [
    "### Scientific Context\n",
    "\n",
    "We are going to be discussing recent measurements of the Hubble parameter, $H_0$, which is a measure of the expansion of the universe.  It tells us how quickly distant objects are moving away from us.\n",
    "\n",
    "Traditionally the Hubble parameter is given in units of kilometers per second per megaparsec: $\\frac{{\\rm km}}{{\\rm s}}{\\rm Mpc}^{-1}$, that is to say, a velocity per distance. That can be a bit confusing, but you can think of it as: \"An object 1 Mpc away from us will be moving away from us at $H_0$ km/s, an object twice as far away will be moving away from us twice as fast, and so on.\"\n",
    "\n",
    "A megaparsec is about 3,260,000 light years, and is about the distance to the closest Galaxies.  We regularly detect galaxies that are over a billion light years away from us, and which are moving away from us at a large fraction of the speed of light.  We will talk more about this later in the course.\n",
    "\n",
    "In the last 30 years or so, we have started to be able to make precise measurements of the Hubble parameter.\n",
    "\n",
    "For the purposes of this lab, that is about all that you need to know.  But it is a truly fascinating topic."
   ]
  },
  {
   "cell_type": "markdown",
   "metadata": {},
   "source": [
    "### Here is a figure illustrating how the Hubble constant is measured\n",
    "\n",
    "The data points show the velocity at which distant galaxies are moving away from us, plotted against their distance from us.\n",
    "\n",
    "Note that there is some scatter in the data points, they don't all lie perfectly along the line.\n",
    "\n",
    "The slope of the line is the Hubble constant.  It gives the relationship between distance and velocity for these faraway galaxies."
   ]
  },
  {
   "cell_type": "markdown",
   "metadata": {},
   "source": [
    "<img src=\"figures/hubble_constant_far.jpg\" alt=\"drawing\" width=\"40%\"/>"
   ]
  },
  {
   "cell_type": "markdown",
   "metadata": {},
   "source": [
    "## Questions for discussion:\n",
    "\n",
    "#### 6.1 Explain this plot (and how you would use it to estimate the Hubble constant) in your own words. "
   ]
  },
  {
   "cell_type": "markdown",
   "metadata": {},
   "source": [
    "### Measurement of the Hubble constant.\n",
    "\n",
    "There have been many, many different measurements of the Hubble constant.  We will go more into the different measurements later in this module, and in later labs, but for now we are going just going to look at some of the values that people have found.\n",
    "\n",
    "We've put a bunch of the values into table in a text file.  The next command will load it."
   ]
  },
  {
   "cell_type": "code",
   "execution_count": null,
   "metadata": {},
   "outputs": [],
   "source": [
    "data = np.loadtxt(open(\"../data/Hubble.txt\", 'rb'), usecols=[1,2,3])"
   ]
  },
  {
   "cell_type": "markdown",
   "metadata": {},
   "source": [
    "These data are in the form of a table with three columns, the first column is the measured value and the next two columns are the estimated uncertainties.  Let's have a look:"
   ]
  },
  {
   "cell_type": "code",
   "execution_count": null,
   "metadata": {},
   "outputs": [],
   "source": [
    "data"
   ]
  },
  {
   "cell_type": "code",
   "execution_count": null,
   "metadata": {},
   "outputs": [],
   "source": [
    "# This is how we pull out the data from columns in the array.\n",
    "H0_measured = data[:,0]\n",
    "H0_errorLow = data[:,1]\n",
    "H0_errorHigh = data[:,2]\n",
    "N_measurements = H0_measured.size\n",
    "print(H0_measured)"
   ]
  },
  {
   "cell_type": "code",
   "execution_count": null,
   "metadata": {},
   "outputs": [],
   "source": [
    "plt.hist(H0_measured, bins=np.linspace(67.5, 77.5, 11))\n",
    "plt.xlabel(\"Hubble Constant [km/s/Mpc]\")\n",
    "plt.ylabel(\"Counts [per 1.0 km/s/Mpc]\")\n",
    "plt.show()"
   ]
  },
  {
   "cell_type": "markdown",
   "metadata": {},
   "source": [
    "## Questions for discussion:\n",
    "\n",
    "#### 7.1 What can we learn just by looking at the chart?  \n",
    "\n",
    "#### 7.2 Just by looking at the chart, what is your best guess as to the true value of the Hubble constant?\n",
    "\n",
    "#### 7.3 Just by looking at the chart, what would you estimate the uncertainty of the Hubble constant to be?  "
   ]
  },
  {
   "attachments": {},
   "cell_type": "markdown",
   "metadata": {},
   "source": [
    "## Quantifying our intuition\n",
    "\n",
    "We are going to review some simple statistics and discuss how they are calculated.\n",
    "\n",
    "**mean ($\\mu$):** The average, the sum of the values divided by the number of values (N):  $\\mu = \\sum_i x_i / N$\n",
    "\n",
    "**median:** The \"middle\" value, i.e., the value that would be in the middle if we sorted them numerically\n",
    "\n",
    "**mode:** The \"most common\" value, i.e., the value that occurs most often"
   ]
  },
  {
   "cell_type": "code",
   "execution_count": null,
   "metadata": {},
   "outputs": [],
   "source": [
    "# We can use simple numpy functions to get the mean and the median\n",
    "H0_mean = np.mean(H0_measured)\n",
    "H0_median = np.median(H0_measured)"
   ]
  },
  {
   "cell_type": "code",
   "execution_count": null,
   "metadata": {},
   "outputs": [],
   "source": [
    "# The \"mode\" depends on how we bin up the data. \n",
    "# It is the center of the bin that has the most counts.  \n",
    "# This little piece of code computes the mode\n",
    "H0_hist = np.histogram(H0_measured, bins=np.linspace(67.5, 77.5, 11))\n",
    "H0_binCounts = H0_hist[0]\n",
    "H0_binEdges = H0_hist[1]\n",
    "H0_binCenters = 0.5*(H0_binEdges[1:] + H0_binEdges[0:-1])\n",
    "H0_mode = H0_binCenters[np.argmax(H0_binCounts)]"
   ]
  },
  {
   "cell_type": "code",
   "execution_count": null,
   "metadata": {},
   "outputs": [],
   "source": [
    "print(\"Mean:   \", H0_mean)\n",
    "print(\"Median: \", H0_median)\n",
    "print(\"Mode:   \", H0_mode)"
   ]
  },
  {
   "cell_type": "markdown",
   "metadata": {},
   "source": [
    "## Questions for discussion:\n",
    "\n",
    "#### 8.1 Which of these statistics would you think gives the \"best\" estimate of the true value of the Hubble parameter, and why?  "
   ]
  },
  {
   "attachments": {},
   "cell_type": "markdown",
   "metadata": {},
   "source": [
    "### Quantifying the scatter of the measurements / uncertainty of the best estimate of the Hubble Parameter\n",
    "\n",
    "Earlier we asked you how you estimate the uncertainty on the Hubble parameter given the set of measurements.  Now we are going to discuss the standard ways of doing that.\n",
    "\n",
    "Let's consider a few different ways of doing that, try them all blindly, and then we can think a bit about the significance of each.\n",
    "\n",
    "  1. Taking the extrema:  max - min\n",
    "  2. Taking the average of the absolute values of the differences from the mean: $ \\frac{1}{N} \\sum|x_i - \\mu|$.\n",
    "  3. The \"standard deviation\", similar to 2 above, but we take and average of the square of the diffences, and then take a square root of this average: $\\sigma = \\sqrt{ \\frac{1}{N} \\sum (x_i - \\mu)^2}$.  \n",
    "  4. The \"standard error\", similar to the 3 above, but we divide the result by the square root of the number of measurements: $\\sigma / \\sqrt{N}$"
   ]
  },
  {
   "cell_type": "code",
   "execution_count": null,
   "metadata": {},
   "outputs": [],
   "source": [
    "print(\"Max - min:          %0.2f\" % (np.max(H0_measured) - np.min(H0_measured)))\n",
    "print(\"Average deviation:  %0.2f\" % (np.mean(np.abs(H0_measured - np.mean(H0_measured)))))\n",
    "print(\"Standard deviation: %0.2f\" % (np.std(H0_measured)))\n",
    "print(\"Standard error:     %0.2f\" % (np.std(H0_measured)/np.sqrt(N_measurements)))"
   ]
  },
  {
   "attachments": {},
   "cell_type": "markdown",
   "metadata": {},
   "source": [
    "### Questions for discussion\n",
    "\n",
    "#### 9.1 Which of these estimates would you use to characterize the uncertainty on the Hubble parameter? Why?\n",
    "\n",
    "#### 9.2 To some extent, this depends on agreeing on what we mean when we say \"uncertainty\".  What do you think might be a reasonable convention for quantifying the \"uncertainty\" of a measurement?\n",
    "\n",
    "#### 9.3 Sometimes it may make sense to quote more than one of these estimates when describing data.  What might be some reasons for that?"
   ]
  },
  {
   "cell_type": "markdown",
   "metadata": {},
   "source": [
    "### Differences between these estimates of the scatter of the measurements.\n",
    "\n",
    "At this point it is probably worth understanding what each of these quantities represents and the differences between them.  Here are some questions to help understand that.\n",
    "\n",
    "\n"
   ]
  },
  {
   "attachments": {},
   "cell_type": "markdown",
   "metadata": {},
   "source": [
    "### Effect of a single measurment\n",
    "\n",
    "The next few cells help us study the effect that a single measurment can have.\n",
    "\n",
    "So, let's pretend that as we are going through the set of Hubble constant measurements we find an old paper that measure a value of 153 km/s/Mpc. Let's see how that affects our results. "
   ]
  },
  {
   "cell_type": "code",
   "execution_count": null,
   "metadata": {},
   "outputs": [],
   "source": [
    "# Note this histogram has the same number of bins as the previous one, but includes the new data point\n",
    "H0_Historical = np.hstack([H0_measured, np.array([153.])])\n",
    "H0_hist = plt.hist(H0_Historical, bins=np.linspace(67.5, 167.5, 11))\n",
    "plt.xlabel(\"Hubble Constant [km/s/Mpc]\")\n",
    "plt.ylabel(\"Counts [per 10.0 km/s/Mpc]\")\n",
    "plt.show()\n",
    "\n",
    "print(H0_Historical)"
   ]
  },
  {
   "cell_type": "code",
   "execution_count": null,
   "metadata": {},
   "outputs": [],
   "source": [
    "print(\"New Mean:   %0.2f\" % np.mean(H0_Historical))\n",
    "print(\"New Median: %0.2f\" % np.median(H0_Historical))\n",
    "print(\"New stdev:  %0.2f\" % np.std(H0_Historical))\n"
   ]
  },
  {
   "cell_type": "code",
   "execution_count": null,
   "metadata": {},
   "outputs": [],
   "source": [
    "print(\"Change in Mean:   %0.2f \" % (np.mean(H0_Historical) - np.mean(H0_measured)))\n",
    "print(\"Change in Median: %0.2f \" % (np.median(H0_Historical) - np.median(H0_measured)))\n",
    "print(\"Change in stdev:  %0.2f \" % (np.std(H0_Historical) - np.std(H0_measured)))"
   ]
  },
  {
   "cell_type": "markdown",
   "metadata": {},
   "source": [
    "## Questions for discussion:\n",
    "\n",
    "#### 10.1 What should we do about this new measurement?  \n",
    "\n",
    "#### 10.2 What does this suggest about using the mean or the median to summarize a set of measurements?  What about which statistic we might use to characterize the uncertainty?"
   ]
  }
 ],
 "metadata": {
  "kernelspec": {
   "display_name": "Python 3 (ipykernel)",
   "language": "python",
   "name": "python3"
  },
  "language_info": {
   "codemirror_mode": {
    "name": "ipython",
    "version": 3
   },
   "file_extension": ".py",
   "mimetype": "text/x-python",
   "name": "python",
   "nbconvert_exporter": "python",
   "pygments_lexer": "ipython3",
   "version": "3.11.8"
  }
 },
 "nbformat": 4,
 "nbformat_minor": 4
}

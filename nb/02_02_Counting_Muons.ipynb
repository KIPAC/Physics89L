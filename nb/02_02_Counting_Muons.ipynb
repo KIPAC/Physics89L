{
 "cells": [
  {
   "cell_type": "markdown",
   "id": "03479e1d",
   "metadata": {},
   "source": [
    "# Poisson statistics\n",
    "\n",
    "### Goals:\n",
    "\n",
    "1. To introduce the Poisson distribution\n",
    "2. To understand how to assign errors to a counting experiment\n",
    "\n",
    "### Timing\n",
    "\n",
    "1. Try to finish this notebook in 20-25 minutes\n"
   ]
  },
  {
   "cell_type": "code",
   "execution_count": null,
   "id": "84fc9ea6",
   "metadata": {},
   "outputs": [],
   "source": [
    "%matplotlib inline\n",
    "import matplotlib.pyplot as plt\n",
    "import numpy as np\n",
    "import scipy.stats as stats"
   ]
  },
  {
   "cell_type": "markdown",
   "id": "2c5b6cbf",
   "metadata": {},
   "source": [
    "### New functions we will use in this module\n",
    "\n",
    "| Function Name            | What it does |\n",
    "| - | - |\n",
    "|    rng.poisson($\\lambda$)   | Draw a random number from a Poisson distribution with mean $\\lambda$|\n",
    "|    scipy.stats.poisson.pmf(x, $\\lambda$)           | Get the Poisson probability density function with mean $\\lambda$ for given x values  |"
   ]
  },
  {
   "cell_type": "markdown",
   "id": "7cf492f2",
   "metadata": {},
   "source": [
    "## Cosmic rays"
   ]
  },
  {
   "cell_type": "markdown",
   "id": "59afacfc",
   "metadata": {},
   "source": [
    "At any given point in time, particles from space are passing through us. These particles are known as \"cosmic rays\". Even though cosmic rays were discovered in 1912, certain aspects of the spectrum are still quite mysterious- there are a number of experiments, such as the Pierre Auger Observatory, studying cosmic rays."
   ]
  },
  {
   "cell_type": "markdown",
   "id": "0edc3ace",
   "metadata": {},
   "source": [
    "At sea level, it turns out that muons make up most of the charged cosmic rays. Muons behave similarly to electrons, but they are 200 times heavier than the electron. If you had a particle detector set up to measure these muons in your lab, you would observe that the arrival of these muons is **random**. "
   ]
  },
  {
   "cell_type": "markdown",
   "id": "1c8725ea",
   "metadata": {},
   "source": [
    "## Poisson distribution\n",
    "\n",
    "To understand the data in your particle detector, or any \"counting experiment\" where you need to count the number of times a random process happens (think radioactive decays), let's look at the Poisson distribution. \n",
    "\n",
    "If you have (rare) events occuring randomly at an average rate, *where each event occurs independently of any other event*, the probability that you will see $k$ events in a given time interval is described by the Poisson distribution: \n",
    "\n",
    "### $P(k | \\lambda) = \\frac{\\lambda^k e^{-\\lambda}}{k!}$"
   ]
  },
  {
   "cell_type": "markdown",
   "id": "823b566a",
   "metadata": {},
   "source": [
    "Let's break down this equation:\n",
    "\n",
    "- $\\lambda$ is the average number of events that will occur in a given interval of time. $P(k | \\lambda)$ represents the probability of $k$ events happening in the same time interval given an average number of events $\\lambda$.\n",
    "\n",
    "- The expected value (mean) of the Poisson distribution is $\\lambda$, and the variance of the distribution is also $\\lambda$. You only have to remember one parameter!"
   ]
  },
  {
   "cell_type": "markdown",
   "id": "e995b423",
   "metadata": {},
   "source": [
    "To get a feeling for the shapes, here are three Poisson distributions, with $\\lambda$ = 1, 2, 5."
   ]
  },
  {
   "cell_type": "code",
   "execution_count": null,
   "id": "99502602",
   "metadata": {},
   "outputs": [],
   "source": [
    "x = np.arange(0,20,1)\n",
    "for mu in [1,2,5]:\n",
    "    plt.plot(x, stats.poisson.pmf(x, mu=mu), label=rf\"$\\lambda = {mu:d}$\")\n",
    "plt.xlabel('k')\n",
    "plt.ylabel('Probability')\n",
    "plt.legend()"
   ]
  },
  {
   "cell_type": "markdown",
   "id": "3e3a4371",
   "metadata": {},
   "source": [
    "### Questions for discussion:\n",
    "\n",
    "#### 5.1 Do the distributions have the shape that you would expect them to have? \n",
    "\n",
    "#### 5.2 What's the probability of seeing 10 events in the next minute if, on average, 5 events occur every minute?\n"
   ]
  },
  {
   "cell_type": "markdown",
   "id": "322ed127",
   "metadata": {},
   "source": [
    "## Higher rates\n",
    "Let's extend the x-axis of this plot a bit, and plot some Poisson distributions with larger $\\lambda$ values:"
   ]
  },
  {
   "cell_type": "code",
   "execution_count": null,
   "id": "969f3f1c",
   "metadata": {
    "scrolled": true
   },
   "outputs": [],
   "source": [
    "x = np.arange(0,50,1)\n",
    "for mu in [1,2,5,18,20]:\n",
    "    plt.plot(x, stats.poisson.pmf(x, mu=mu), label=rf\"$\\lambda = {mu:d}$\")\n",
    "plt.xlabel('k')\n",
    "plt.ylabel('Probability')\n",
    "plt.legend()\n",
    "plt.legend()"
   ]
  },
  {
   "cell_type": "markdown",
   "id": "edceb0f7",
   "metadata": {},
   "source": [
    "### Questions for discussion\n",
    "#### 6.1 What do you notice about the shape of the Poisson distribution with larger $\\lambda$ values? "
   ]
  },
  {
   "cell_type": "markdown",
   "id": "447a4dfe",
   "metadata": {},
   "source": [
    "## Counting the number of muons in the next 10 minutes"
   ]
  },
  {
   "cell_type": "markdown",
   "id": "1fb1bd40",
   "metadata": {},
   "source": [
    "### Rate of muons\n",
    "\n",
    "If you hold out your hand, there is on average about 1 fairly energetic muon per minute passing through a square centimeter of your hand."
   ]
  },
  {
   "cell_type": "markdown",
   "id": "27fc9a1a",
   "metadata": {},
   "source": [
    "Let's pretend we have a muon detector in our hand. We can simulate an experiment where we count the number of muons passing through 1 square centimeter for the next minute:"
   ]
  },
  {
   "cell_type": "code",
   "execution_count": null,
   "id": "e440237e",
   "metadata": {},
   "outputs": [],
   "source": [
    "rng = np.random.default_rng(42)"
   ]
  },
  {
   "cell_type": "code",
   "execution_count": null,
   "id": "0fa2ac87",
   "metadata": {
    "scrolled": true
   },
   "outputs": [],
   "source": [
    "count_once = rng.poisson(1) # sample from the Poisson distribution with mean of 1\n",
    "print(\"Number of muons in a minute:\",count_once)"
   ]
  },
  {
   "cell_type": "markdown",
   "id": "c41c4509",
   "metadata": {},
   "source": [
    " Let's repeat this experiment 100 times and make a distribution of our measurements:"
   ]
  },
  {
   "cell_type": "code",
   "execution_count": null,
   "id": "40a84431",
   "metadata": {},
   "outputs": [],
   "source": [
    "muon_counts = rng.poisson(1, size=100) # Sample from the Poisson distribution with mean of 1, 100 times\n",
    "muon_counts[0:10] # display first 10 samples"
   ]
  },
  {
   "cell_type": "code",
   "execution_count": null,
   "id": "01b878ea",
   "metadata": {
    "scrolled": true
   },
   "outputs": [],
   "source": [
    "plt.hist(muon_counts, bins=np.linspace(-0.5,10.5,12))\n",
    "plt.xlabel(\"Number of muons counted in my hand particle detector in 1 minute\")\n",
    "plt.ylabel(\"Counts\")\n",
    "plt.show()"
   ]
  },
  {
   "cell_type": "markdown",
   "id": "be150ade",
   "metadata": {},
   "source": [
    "Similar to the Hubble data, we can take the mean and the standard deviation of the distribution to get an estimate of the average number of muons expected in a given minute. "
   ]
  },
  {
   "cell_type": "code",
   "execution_count": null,
   "id": "0104a1c0",
   "metadata": {},
   "outputs": [],
   "source": [
    "print(\"Mean of measurements:              \", np.mean(muon_counts))\n",
    "print(\"Standard deviation of measurements:\", np.std(muon_counts))\n",
    "print(\"Rel. error (standard deviation/mean):\", np.std(muon_counts)/np.mean(muon_counts))"
   ]
  },
  {
   "cell_type": "markdown",
   "id": "e2d64779",
   "metadata": {},
   "source": [
    "#### Let's go up in elevation.\n",
    "The muon flux increases as you go above sea level. Let's stop at the top of an imaginary  mountain where our rate of muons is expected to be 100 times higher. Let's start counting again, and then repeat our measurement 100 times. "
   ]
  },
  {
   "cell_type": "code",
   "execution_count": null,
   "id": "4581ef8c",
   "metadata": {},
   "outputs": [],
   "source": [
    "count_once_100 = rng.poisson(100, size=1) # Sample from the Poisson distribution with mean of 100\n",
    "print(\"Number of muons in 1 minute:\", count_once_100[0])\n",
    "muon_counts_100 = rng.poisson(100, size=100); # Sample from the Poisson distribution with mean of 100, 100 times"
   ]
  },
  {
   "cell_type": "code",
   "execution_count": null,
   "id": "0654d623",
   "metadata": {},
   "outputs": [],
   "source": [
    "plt.hist(muon_counts_100)\n",
    "plt.xlabel(\"Number of muons counted in my hand particle detector in 1 minute\")\n",
    "plt.ylabel(\"Counts\")\n",
    "plt.show()"
   ]
  },
  {
   "cell_type": "code",
   "execution_count": null,
   "id": "83c6c2d5",
   "metadata": {
    "scrolled": true
   },
   "outputs": [],
   "source": [
    "print(\"Mean of measurements:              \", np.mean(muon_counts_100))\n",
    "print(\"Standard deviation of measurements:\", np.std(muon_counts_100))\n",
    "print(\"Rel. error (standard deviation/mean):\", np.std(muon_counts_100)/np.mean(muon_counts_100))"
   ]
  },
  {
   "cell_type": "markdown",
   "id": "6e96ef31",
   "metadata": {},
   "source": [
    "### Questions for discussion\n",
    "#### 7.1 If you detected 100 muons in a minute, how confident would you be about saying the average number of muons passing through your detector per minute is 100? Similarly, if you detected only 1 muon, how confident would you be about saying the average number of muons passing through your detector per minute is 1?"
   ]
  }
 ],
 "metadata": {
  "kernelspec": {
   "display_name": "Python 3 (ipykernel)",
   "language": "python",
   "name": "python3"
  },
  "language_info": {
   "codemirror_mode": {
    "name": "ipython",
    "version": 3
   },
   "file_extension": ".py",
   "mimetype": "text/x-python",
   "name": "python",
   "nbconvert_exporter": "python",
   "pygments_lexer": "ipython3",
   "version": "3.11.8"
  }
 },
 "nbformat": 4,
 "nbformat_minor": 5
}

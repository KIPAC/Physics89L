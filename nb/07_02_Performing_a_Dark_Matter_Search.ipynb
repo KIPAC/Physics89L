{
 "cells": [
  {
   "attachments": {},
   "cell_type": "markdown",
   "id": "a033ba43",
   "metadata": {},
   "source": [
    "# Performing a Dark Matter Search\n",
    "\n",
    "### Goals\n",
    "\n",
    "1. To perform a search for dark matter using the selection criteria you devised in the previous notebook.\n",
    "2. To understand how to interpret the results of your search, and decide if you should book a ticket to Stockholm or not.\n",
    "\n",
    "### Timing\n",
    "\n",
    "1. Try to finish this notebook in 30-35 minutes.\n"
   ]
  },
  {
   "cell_type": "code",
   "execution_count": null,
   "id": "98b03fab",
   "metadata": {},
   "outputs": [],
   "source": [
    "%matplotlib inline\n",
    "import matplotlib.pyplot as plt\n",
    "import numpy as np\n",
    "import scipy.stats as scipy\n",
    "import datetime\n",
    "\n",
    "plt.rcParams['font.size'] = 14"
   ]
  },
  {
   "attachments": {},
   "cell_type": "markdown",
   "id": "822b19dd",
   "metadata": {},
   "source": [
    "# Let's do a simple search for dark matter\n",
    "\n",
    "\n",
    "In the last notebook, we learned about cuts, signal acceptance, and background rejection while comparing neutron (signal-like) calibration data and $\\beta$ (background-like) calibration data. Now, let's put these together and try to do a simple search for dark matter. \n",
    "\n",
    "We're now going to look at a single file of data, collected from a simulated detector exposure. Now, we don't have any prior knowledge about which events are signal-like and which are background-like - they're all lumped together into one dataset. **And remember: we don't even know whether dark matter can scatter on nuclei, so it's not a certainty that there are ANY signal-like events in this dataset!**"
   ]
  },
  {
   "cell_type": "markdown",
   "id": "e6f7f431",
   "metadata": {},
   "source": [
    "I'm including here the acceptance and leakage plots from the previous notebook, for you to reference.\n",
    "\n",
    "<img src=\"figures/Leakage.png\" width=\"400\"/>"
   ]
  },
  {
   "cell_type": "code",
   "execution_count": null,
   "id": "421caabc",
   "metadata": {},
   "outputs": [],
   "source": [
    "## First, load in the data from our DM search\n",
    "DMSearch_data = np.loadtxt(open(\"../data/DMSearch_data.txt\",'r'))\n",
    "\n",
    "## Take the S2 values from the search data and plot in a histogram.\n",
    "data_logS2Bins = np.linspace(1, 5, 100)\n",
    "data_logS2 = np.log10(DMSearch_data[:])\n",
    "\n",
    "## Plot these events\n",
    "fig, ax = plt.subplots(figsize=(8, 5))\n",
    "\n",
    "ax.hist(data_logS2, bins=data_logS2Bins,fc=(0, 0, 0, 0.3))\n",
    "\n",
    "ax.set_xlabel(r'Log(S2 size)')\n",
    "ax.set_ylabel(r'Counts per bin')\n",
    "ax.set_yscale('log')\n",
    "\n",
    "fig.tight_layout()\n",
    "plt.show()\n",
    "\n",
    "print(f\"Number of total events recorded in observing period: {data_logS2.size}\")"
   ]
  },
  {
   "attachments": {},
   "cell_type": "markdown",
   "id": "13850406",
   "metadata": {},
   "source": [
    "# Questions for Discussion\n",
    "\n",
    "#### 5.1 What are your first impressions here? If some dark matter events are in this plot, where would they show up? Can you conclude on first sight that we have or have not found dark matter? If yes, how many dark matter events do you think we've seen?\n",
    "\n",
    "Let's now use the cut on Log(S2) (i.e., $X_{c}$) that you chose in the last notebook to cut away the events we think are likely to be background. Plug in your cut value into the `myCutValue_Xc` variable in the code below.\n",
    "\n",
    "**Side note: it is important that you do not change your cut value now that you've seen the dark matter search data. If you do, you will introduce bias into your result.** (Disclaimer: you will not be graded on your ability to choose an excellent cut, so please just play along with this anti-bias measure ;) )"
   ]
  },
  {
   "cell_type": "code",
   "execution_count": null,
   "id": "cacdfba1",
   "metadata": {},
   "outputs": [],
   "source": [
    "## Function we use to help us cut away events with S2s above a \n",
    "## certain threshold cutVal\n",
    "def cut_events(eventList, cutVal):\n",
    "    \n",
    "    ## Make a mask of all events passing the cut\n",
    "    mask = eventList < cutVal\n",
    "\n",
    "    ## Apply that mask to the event list by indexing with the\n",
    "    ## boolean array\n",
    "    return eventList[mask]"
   ]
  },
  {
   "cell_type": "markdown",
   "id": "44cfd2d4",
   "metadata": {},
   "source": [
    "Plug in your cut value from the last notebook in the first line here."
   ]
  },
  {
   "cell_type": "code",
   "execution_count": null,
   "id": "211c43a9",
   "metadata": {},
   "outputs": [],
   "source": [
    "## Plug in your cut value from last lab here!\n",
    "myCutValue_Xc = 2.9\n",
    "\n",
    "\n",
    "## Loop through elements and remove those above the cut value\n",
    "data_logS2_afterCut = cut_events(data_logS2, myCutValue_Xc)\n",
    "\n",
    "## Plot the histogram of the remaining events after the cut\n",
    "fig, ax = plt.subplots(figsize=(8, 5))\n",
    "\n",
    "ax.hist(data_logS2_afterCut, bins=data_logS2Bins,fc=(0, 0, 0, 0.3))\n",
    "\n",
    "ax.set_xlabel(r'Log(S2 size)')\n",
    "ax.set_ylabel(r'Counts per bin')\n",
    "ax.set_yscale('linear')\n",
    "\n",
    "fig.tight_layout()\n",
    "plt.show()\n",
    "\n",
    "print(f\"Number of dark matter search events, prior to cut: {data_logS2.size}\")\n",
    "print(f\"Number of dark matter search events remaining after cut: {data_logS2_afterCut.size}\")"
   ]
  },
  {
   "attachments": {},
   "cell_type": "markdown",
   "id": "19ff8618",
   "metadata": {},
   "source": [
    "#### 5.2 When you apply the cut, how many events, $N_{ROI}$, survive? (ROI = region of interest) "
   ]
  },
  {
   "attachments": {},
   "cell_type": "markdown",
   "id": "e317a90d",
   "metadata": {},
   "source": [
    "# Complete this section if you have more than zero remaining events\n",
    "\n",
    "Okay, so some events survived your cut. Now let's see how statistically significant your $N_{ROI}$ is. \n",
    "\n",
    "It's fair to assume that the vast majority of all observed events (pre-cut) are background, so let's approximate the total number of background events as the total number of observed events. \n",
    "\n",
    "#### 5.3a What is the average number of background events $N_{ex}$ you expect to leak below your cut value? (This can be a non-integer number.) Hint: you will need to look at the background leakage curve at the top of this notebook, with a knowledge of how many overall events there were. Alternatively, you could go back to the previous notebook and use your interpolating functions to be most accurate!\n",
    "\n",
    "Now, suppose the probability of observing $N$ background events in this window follows a Poisson distribution with a mean of $N_{ex}$. \n",
    "\n",
    "Plug your $N_{ex}$ into the following code, in the first line below."
   ]
  },
  {
   "cell_type": "code",
   "execution_count": null,
   "id": "dc314da8",
   "metadata": {},
   "outputs": [],
   "source": [
    "## Plug in the expected number of events N_ex that you calculated above\n",
    "N_ex = None\n",
    "\n",
    "## Determine the number of events that survive the cut from our dataset\n",
    "N_ROI = data_logS2_afterCut.size\n",
    "\n",
    "## Calculate the probability of observing N_ROI given the expected \n",
    "## number of background events N_ex.\n",
    "probability_from_background = scipy.poisson.sf(N_ROI-1, N_ex) # subtract 1 because it's discrete\n",
    "\n",
    "## Print the probability\n",
    "print(f\"Probability of getting N_ROI events from just background fluctuations: {probability_from_background}\")"
   ]
  },
  {
   "cell_type": "markdown",
   "id": "acfc2363",
   "metadata": {},
   "source": [
    "#### 5.4a What is the probability that you will see $N_{ROI}$ or more events due to just normal background fluctuations? Can you quote a p-value for observing $N_{ROI}$ under the assumption that only background is present?\n",
    "\n",
    "#### 5.5a In qualitative terms, how confident are you that you discovered dark matter?"
   ]
  },
  {
   "attachments": {},
   "cell_type": "markdown",
   "id": "ff5cec02",
   "metadata": {},
   "source": [
    "# Alternatively, complete this section if you have zero remaining events\n",
    "\n",
    "Okay, so you have zero remaining events. This suggests that you did not observe dark matter with your experiment. However, this does not mean that the results are not meaningful or exciting.\n",
    "\n",
    "#### 5.3b Does the fact that you have zero remaining events after your cut mean that we're certain dark matter didn't scatter in your detector? Why or why not? Refer to the signal acceptance plot in your answer.\n",
    "\n",
    "#### 5.4b How is a null result (one where you don't find dark matter) useful for understanding the properties of dark matter?"
   ]
  },
  {
   "cell_type": "markdown",
   "id": "89da650e",
   "metadata": {},
   "source": [
    "# Was there actually dark matter in the simulated dataset? \n",
    "\n",
    "Once you get to this point, please ask one of the instructors for spoilers! (Of course, none of them actually knows if there REALLY will be dark matter seen in LUX-ZEPLIN, but stay tuned!)"
   ]
  }
 ],
 "metadata": {
  "kernelspec": {
   "display_name": "kipac_physics89L",
   "language": "python",
   "name": "python3"
  },
  "language_info": {
   "codemirror_mode": {
    "name": "ipython",
    "version": 3
   },
   "file_extension": ".py",
   "mimetype": "text/x-python",
   "name": "python",
   "nbconvert_exporter": "python",
   "pygments_lexer": "ipython3",
   "version": "3.11.8"
  }
 },
 "nbformat": 4,
 "nbformat_minor": 5
}
